{
  "nbformat": 4,
  "nbformat_minor": 0,
  "metadata": {
    "colab": {
      "name": "fI curve.ipynb",
      "provenance": [],
      "collapsed_sections": [],
      "authorship_tag": "ABX9TyPikplkNUwMv6o+zwTlEb/F",
      "include_colab_link": true
    },
    "kernelspec": {
      "name": "python3",
      "display_name": "Python 3"
    }
  },
  "cells": [
    {
      "cell_type": "markdown",
      "metadata": {
        "id": "view-in-github",
        "colab_type": "text"
      },
      "source": [
        "<a href=\"https://colab.research.google.com/github/nee2shaji/neural-cognitive-modelling/blob/master/fI_curve.ipynb\" target=\"_parent\"><img src=\"https://colab.research.google.com/assets/colab-badge.svg\" alt=\"Open In Colab\"/></a>"
      ]
    },
    {
      "cell_type": "code",
      "metadata": {
        "id": "KVIkeV7aV03D",
        "colab_type": "code",
        "colab": {}
      },
      "source": [
        "# @title Install required packages\n",
        "\n",
        "%%capture\n",
        "!pip3 install brian2\n",
        "!pip3 install --upgrade neurodynex3"
      ],
      "execution_count": 1,
      "outputs": []
    },
    {
      "cell_type": "code",
      "metadata": {
        "id": "J4oZlTkwV86E",
        "colab_type": "code",
        "colab": {}
      },
      "source": [
        "# @title Import required packages, libraries\n",
        "\n",
        "%%capture\n",
        "%matplotlib inline\n",
        "import brian2 as b2\n",
        "import matplotlib.pyplot as plt\n",
        "import numpy as np\n",
        "from neurodynex3.leaky_integrate_and_fire import LIF\n",
        "from neurodynex3.tools import input_factory, plot_tools"
      ],
      "execution_count": 2,
      "outputs": []
    },
    {
      "cell_type": "code",
      "metadata": {
        "id": "4Nmpi8ChuupU",
        "colab_type": "code",
        "colab": {
          "base_uri": "https://localhost:8080/",
          "height": 295
        },
        "outputId": "609f6090-afb5-4f20-ca91-96d135faf311"
      },
      "source": [
        "f, I = list(), np.linspace(0,0.8,100)\n",
        "currStartTime = 0\n",
        "currEndTime =500\n",
        "for i in I:\n",
        "    step_current = input_factory.get_step_current(t_start=currStartTime, t_end=currEndTime, unit_time=b2.ms, amplitude=i * b2.namp)\n",
        "    (state_monitor,spike_monitor) = LIF.simulate_LIF_neuron(input_current=step_current, simulation_time = 500 * b2.ms, \n",
        "                                                            v_rest = -70 * b2.mV,\n",
        "                                                            firing_threshold = -45 * b2.mV,\n",
        "                                                            membrane_resistance = 40 * 1e6 * b2.ohm,\n",
        "                                                            membrane_time_scale = 15 * b2.ms)\n",
        "    firingRate = spike_monitor.count[0] / ((currEndTime - currStartTime) * 1e-3)\n",
        "    f.append(firingRate)\n",
        "plt.plot(I, f)\n",
        "plt.title('f-I Curve')\n",
        "plt.xlabel(\"Current \")\n",
        "plt.ylabel(\"Frequency (Hz)\")\n",
        "plt.show()"
      ],
      "execution_count": 3,
      "outputs": [
        {
          "output_type": "display_data",
          "data": {
            "image/png": "[encoded data removed]",
            "text/plain": [
              "<Figure size 432x288 with 1 Axes>"
            ]
          },
          "metadata": {
            "tags": [],
            "needs_background": "light"
          }
        }
      ]
    }
  ]
}